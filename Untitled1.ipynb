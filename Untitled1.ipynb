{
  "nbformat": 4,
  "nbformat_minor": 0,
  "metadata": {
    "colab": {
      "provenance": [],
      "authorship_tag": "ABX9TyNNzOjtIHIe6bFVLAsDPfN9",
      "include_colab_link": true
    },
    "kernelspec": {
      "name": "python3",
      "display_name": "Python 3"
    },
    "language_info": {
      "name": "python"
    }
  },
  "cells": [
    {
      "cell_type": "markdown",
      "metadata": {
        "id": "view-in-github",
        "colab_type": "text"
      },
      "source": [
        "<a href=\"https://colab.research.google.com/github/muhammad124120061-cmyk/Teknik-Pemrograman-TG25-21002-ITERA/blob/main/Untitled1.ipynb\" target=\"_parent\"><img src=\"https://colab.research.google.com/assets/colab-badge.svg\" alt=\"Open In Colab\"/></a>"
      ]
    },
    {
      "cell_type": "code",
      "source": [
        "list_angka =[1,2,3]\n",
        "list_data = [\"Surya\", 124120061, 124120062, True]\n",
        "print(list_data)"
      ],
      "metadata": {
        "colab": {
          "base_uri": "https://localhost:8080/"
        },
        "id": "zheBxlfeDE5V",
        "outputId": "f0bedcbc-0829-4046-f68d-c77c30fa0f86"
      },
      "execution_count": 10,
      "outputs": [
        {
          "output_type": "stream",
          "name": "stdout",
          "text": [
            "['Surya', 124120061, 124120062, True]\n"
          ]
        }
      ]
    },
    {
      "cell_type": "code",
      "source": [
        "print(list_data[1:3])"
      ],
      "metadata": {
        "colab": {
          "base_uri": "https://localhost:8080/"
        },
        "id": "WNInuS4XEsXY",
        "outputId": "ffaada77-efdd-454d-b869-262f768eb910"
      },
      "execution_count": 11,
      "outputs": [
        {
          "output_type": "stream",
          "name": "stdout",
          "text": [
            "[124120061, 124120062]\n"
          ]
        }
      ]
    },
    {
      "cell_type": "code",
      "source": [
        "list_nim = [1,2,3,4,5,6,7,8]"
      ],
      "metadata": {
        "id": "ZMTk--5yFYr_"
      },
      "execution_count": 14,
      "outputs": []
    },
    {
      "cell_type": "code",
      "source": [
        "print(list_nim[-5:])\n",
        "print(list_nim[::2])"
      ],
      "metadata": {
        "colab": {
          "base_uri": "https://localhost:8080/"
        },
        "id": "WcjmFE2xFlPi",
        "outputId": "61f3ffa2-b789-4a4f-d9d2-a8e5482aef5f"
      },
      "execution_count": 17,
      "outputs": [
        {
          "output_type": "stream",
          "name": "stdout",
          "text": [
            "[4, 5, 6, 7, 8]\n",
            "[1, 3, 5, 7]\n"
          ]
        }
      ]
    },
    {
      "cell_type": "code",
      "source": [
        "#append\n",
        "for i in range(100) :\n",
        "  list_nim,append(i)"
      ],
      "metadata": {
        "id": "d2MuEdckGWf3"
      },
      "execution_count": null,
      "outputs": []
    },
    {
      "cell_type": "code",
      "source": [
        "print(list_nim)"
      ],
      "metadata": {
        "colab": {
          "base_uri": "https://localhost:8080/"
        },
        "id": "4yKkDTuxGi5o",
        "outputId": "6ba8d6f5-fc87-414c-8e0b-246a446f6395"
      },
      "execution_count": 19,
      "outputs": [
        {
          "output_type": "stream",
          "name": "stdout",
          "text": [
            "[1, 2, 3, 4, 5, 6, 7, 8]\n"
          ]
        }
      ]
    },
    {
      "cell_type": "code",
      "source": [
        "tampungan_y = []\n",
        "ganjil = []\n",
        "for x in range(1,101) :\n",
        "  y = x**2 + 2\n",
        "  if y%2 == 1 :\n",
        "    ganjil.append(y)\n",
        "  tampungan_y.append(y)\n"
      ],
      "metadata": {
        "id": "e-btHhNDIH9Y"
      },
      "execution_count": 25,
      "outputs": []
    },
    {
      "cell_type": "code",
      "source": [
        "print(ganjil)"
      ],
      "metadata": {
        "id": "BYwf0JFVNHtn"
      },
      "execution_count": null,
      "outputs": []
    },
    {
      "cell_type": "code",
      "source": [
        "ganjil [1;5] = [10,10,10,10]\n",
        "print(ganjil)"
      ],
      "metadata": {
        "id": "58dc7zlhIdP8"
      },
      "execution_count": null,
      "outputs": []
    },
    {
      "cell_type": "code",
      "source": [
        "tuple_1 =(1,2,3)"
      ],
      "metadata": {
        "id": "ngTYT0C2NKXN"
      },
      "execution_count": null,
      "outputs": []
    },
    {
      "cell_type": "code",
      "source": [
        "a,b,c = tuple_1"
      ],
      "metadata": {
        "id": "ejZPBxGPNaq_"
      },
      "execution_count": null,
      "outputs": []
    },
    {
      "cell_type": "code",
      "source": [
        "print(a)"
      ],
      "metadata": {
        "id": "uPzSyzaaNfLg"
      },
      "execution_count": null,
      "outputs": []
    },
    {
      "cell_type": "code",
      "source": [
        "set_1 ={1,2,3}\n",
        "print(set_1)"
      ],
      "metadata": {
        "colab": {
          "base_uri": "https://localhost:8080/"
        },
        "id": "8690nqRgOFtI",
        "outputId": "24a2b9e4-2bfb-4ffb-8cfc-4e5768101ac9"
      },
      "execution_count": 38,
      "outputs": [
        {
          "output_type": "stream",
          "name": "stdout",
          "text": [
            "{1, 2, 3}\n"
          ]
        }
      ]
    },
    {
      "cell_type": "code",
      "source": [
        "for s in set_1:\n",
        "  print(s)"
      ],
      "metadata": {
        "id": "xHaXY804Ok6M"
      },
      "execution_count": null,
      "outputs": []
    },
    {
      "cell_type": "code",
      "source": [
        "set1 = {1,2,3}\n",
        "set2 = {3,4,5}\n",
        "\n",
        "print(set1 - set2)"
      ],
      "metadata": {
        "id": "jyTh6sdJO0bY"
      },
      "execution_count": null,
      "outputs": []
    },
    {
      "cell_type": "code",
      "source": [
        "#gabungan : {1,2,3,4,5}\n",
        "print(set1 & set2) #irisan: {3}\n",
        "print(set1 - set2) #selisih: {1,2}"
      ],
      "metadata": {
        "id": "sziGcwPFPJKt"
      },
      "execution_count": null,
      "outputs": []
    },
    {
      "cell_type": "code",
      "source": [
        "mhs = {\"nama\":Surya, \"nim\":124120061, \"prodi\" : Teknik}\n",
        "\n",
        "print(mhs[\"nama\"])\n",
        "print(mhs [\"nim\"])\n",
        "print(mhs[\"prodi\"])"
      ],
      "metadata": {
        "id": "wuvC0EfkPq5a"
      },
      "execution_count": null,
      "outputs": []
    },
    {
      "cell_type": "code",
      "source": [
        "mhs[\"namaputra\"]\n",
        "\n",
        "print(mhs)"
      ],
      "metadata": {
        "id": "ZVEH8VAARASw"
      },
      "execution_count": null,
      "outputs": []
    },
    {
      "cell_type": "code",
      "source": [
        "mhs.keys()"
      ],
      "metadata": {
        "id": "TjtaU3bXRLNz"
      },
      "execution_count": null,
      "outputs": []
    },
    {
      "cell_type": "code",
      "source": [
        "for data in mhs.items():\n",
        "  print(data)"
      ],
      "metadata": {
        "id": "rUl7hfDIROfl"
      },
      "execution_count": null,
      "outputs": []
    },
    {
      "cell_type": "code",
      "source": [
        "mhs = {\n",
        "    \"nama\" : [\"amdi\", \"asido\", \"purta\"],\n",
        "    \"nim\" : [123,124,125],\n",
        "    \"prodi\" : [\"tg\", \"gl\", \"if\"]\n",
        "    \"univ\" : \"ITERA\"\n",
        "}"
      ],
      "metadata": {
        "id": "ODvntP_0RanK"
      },
      "execution_count": null,
      "outputs": []
    },
    {
      "cell_type": "code",
      "source": [
        "mhs[\"nama\"][0]\n",
        "print(mhs[\"nama\"])"
      ],
      "metadata": {
        "id": "qxgjiX_eSIHE"
      },
      "execution_count": null,
      "outputs": []
    }
  ]
}